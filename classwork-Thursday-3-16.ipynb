{
 "cells": [
  {
   "cell_type": "markdown",
   "metadata": {},
   "source": [
    "## Aditya Kantawala\n",
    "what did you find from the extinction and speciation rate from pyrate\n",
    "\n",
    "## Justin Shieh\n",
    "how do you know bigger brain size correlated with survival\n",
    "\n",
    "## Sarah Kim\n",
    "what are you trying to find for this family\n",
    "\n",
    "## Christina Zhou\n",
    "why they dont fossilize well\n",
    "\n",
    "## Gayane Hovsepyan\n",
    "why is there a gap in diagnosis of autism?\n",
    "\n",
    "## Roxana Nojoumi\n",
    "my presentation\n",
    "\n",
    "## Cooper Kass\n",
    "how can you infer any result if there is not enough data\n",
    "\n",
    "## Jeffrey Lee\n",
    "how can the correlation between the extinction and speciation rate help you with your data\n",
    "\n",
    "## Laura Trejo\n",
    "why are they restricted to tropical areas\n",
    "\n",
    "## Jin Kim\n",
    "what is the relationship between the two longest range species you have found\n",
    "\n",
    "## Marina Salama\n",
    "was there a change in extiction rate because of the recent disease\n",
    "\n",
    "## Erin Solis\n",
    "why there was a jump in extinction rate in recent times\n",
    "\n",
    "## Sean Mathew\n",
    "how did you graph the world map\n",
    "\n",
    "\n",
    "## Tiffany Dang\n",
    "what did you find from the extiction rates\n"
   ]
  }
 ],
 "metadata": {
  "anaconda-cloud": {},
  "kernelspec": {
   "display_name": "Python [conda root]",
   "language": "python",
   "name": "conda-root-py"
  },
  "language_info": {
   "codemirror_mode": {
    "name": "ipython",
    "version": 3
   },
   "file_extension": ".py",
   "mimetype": "text/x-python",
   "name": "python",
   "nbconvert_exporter": "python",
   "pygments_lexer": "ipython3",
   "version": "3.5.2"
  }
 },
 "nbformat": 4,
 "nbformat_minor": 2
}
