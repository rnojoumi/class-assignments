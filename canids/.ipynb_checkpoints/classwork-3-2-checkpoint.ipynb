{
 "cells": [
  {
   "cell_type": "code",
   "execution_count": 7,
   "metadata": {
    "collapsed": false
   },
   "outputs": [],
   "source": [
    "my_file= open(\"canids.csv\" , encoding = \"ISO-8859-15\")\n",
    "my_line = my_file.readlines()[18:]\n",
    "output = open(\"canids_new.csv\", \"w\")\n",
    "for line in my_line:\n",
    "    output.write(line)"
   ]
  },
  {
   "cell_type": "code",
   "execution_count": 6,
   "metadata": {
    "collapsed": false
   },
   "outputs": [
    {
     "name": "stdout",
     "output_type": "stream",
     "text": [
      "Borophagus Borophagus secundus 7.6000000000000005 14.1815\n"
     ]
    },
    {
     "ename": "TypeError",
     "evalue": "unsupported operand type(s) for +: 'float' and 'str'",
     "output_type": "error",
     "traceback": [
      "\u001b[0;31m---------------------------------------------------------------------------\u001b[0m",
      "\u001b[0;31mTypeError\u001b[0m                                 Traceback (most recent call last)",
      "\u001b[0;32m<ipython-input-6-4c2ef0a8d65f>\u001b[0m in \u001b[0;36m<module>\u001b[0;34m()\u001b[0m\n\u001b[1;32m     36\u001b[0m     \u001b[0moutput\u001b[0m\u001b[0;34m.\u001b[0m\u001b[0mwrite\u001b[0m\u001b[0;34m(\u001b[0m\u001b[0mgenus\u001b[0m \u001b[0;34m+\u001b[0m \u001b[0;34m\",\"\u001b[0m\u001b[0;34m)\u001b[0m\u001b[0;34m\u001b[0m\u001b[0m\n\u001b[1;32m     37\u001b[0m     \u001b[0moutput\u001b[0m\u001b[0;34m.\u001b[0m\u001b[0mwrite\u001b[0m\u001b[0;34m(\u001b[0m\u001b[0mkeys\u001b[0m\u001b[0;34m+\u001b[0m \u001b[0;34m\",\"\u001b[0m\u001b[0;34m)\u001b[0m\u001b[0;34m\u001b[0m\u001b[0m\n\u001b[0;32m---> 38\u001b[0;31m     \u001b[0moutput\u001b[0m\u001b[0;34m.\u001b[0m\u001b[0mwrite\u001b[0m\u001b[0;34m(\u001b[0m\u001b[0mminage\u001b[0m \u001b[0;34m+\u001b[0m \u001b[0;34m\",\"\u001b[0m\u001b[0;34m)\u001b[0m\u001b[0;34m\u001b[0m\u001b[0m\n\u001b[0m\u001b[1;32m     39\u001b[0m     \u001b[0moutput\u001b[0m\u001b[0;34m.\u001b[0m\u001b[0mwrite\u001b[0m\u001b[0;34m(\u001b[0m\u001b[0mmaxage\u001b[0m \u001b[0;34m+\u001b[0m \u001b[0;34m\",\"\u001b[0m\u001b[0;34m)\u001b[0m\u001b[0;34m\u001b[0m\u001b[0m\n\u001b[1;32m     40\u001b[0m  \u001b[0;31m#   output.write(str(average) +\"\\n\")\u001b[0m\u001b[0;34m\u001b[0m\u001b[0;34m\u001b[0m\u001b[0m\n",
      "\u001b[0;31mTypeError\u001b[0m: unsupported operand type(s) for +: 'float' and 'str'"
     ]
    }
   ],
   "source": [
    "my_file2= open(\"canids_new.csv\" , encoding = \"ISO-8859-15\")\n",
    "my_lines2 = my_file2.readlines()\n",
    "output=open(\"canids_ranges.csv\",\"w\")   \n",
    "  \n",
    "from collections import defaultdict\n",
    "species_ranges = defaultdict(list)\n",
    "    \n",
    "for line in my_lines2:\n",
    " \n",
    "    line= line.replace('\"', '')\n",
    "#    line= line.replace(\"'\", '')\n",
    "        \n",
    "    species_name= line.split(\",\")[5]\n",
    "    genus_family= line.split(\",\")[6]\n",
    "    max_int = line.split(\",\")[10]\n",
    "    min_int = line.split(\",\")[11]\n",
    "    \n",
    "    average = (float(max_int) + float(min_int)) /2\n",
    "\n",
    "    species_ranges[species_name].append(average)\n",
    "    \n",
    "    \n",
    "    #get oldest and youngest ages of fossils for each species in ranges\n",
    "    \n",
    "for keys in species_ranges.keys():\n",
    "    ages= species_ranges[keys]\n",
    "    minage = min(ages)\n",
    "    maxage = max(ages)\n",
    "    genus = key.split(\" \")[0]\n",
    "    print(genus, keys, minage, maxage)\n",
    "    \n",
    "    \n",
    "    \n",
    "    \n",
    "    \n",
    "    output.write(genus + \",\")\n",
    "    output.write(keys+ \",\")\n",
    "    output.write(str(minage) + \",\")\n",
    "    output.write(str(maxage) + \",\")\n",
    " #   output.write(str(average) +\"\\n\")\n",
    "    \n"
   ]
  },
  {
   "cell_type": "code",
   "execution_count": null,
   "metadata": {
    "collapsed": true
   },
   "outputs": [],
   "source": []
  }
 ],
 "metadata": {
  "anaconda-cloud": {},
  "kernelspec": {
   "display_name": "Python [conda root]",
   "language": "python",
   "name": "conda-root-py"
  },
  "language_info": {
   "codemirror_mode": {
    "name": "ipython",
    "version": 3
   },
   "file_extension": ".py",
   "mimetype": "text/x-python",
   "name": "python",
   "nbconvert_exporter": "python",
   "pygments_lexer": "ipython3",
   "version": "3.5.2"
  }
 },
 "nbformat": 4,
 "nbformat_minor": 2
}
