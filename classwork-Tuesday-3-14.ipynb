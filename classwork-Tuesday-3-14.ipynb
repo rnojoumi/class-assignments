{
 "cells": [
  {
   "cell_type": "markdown",
   "metadata": {},
   "source": [
    "## 09:30 Kelsey Jiang\n",
    "how did the extiction graph explained their survival(sharks) over time\n",
    "\n",
    "## 09:34 Dominique Castro\n",
    "what other graphs or codes you will use to explore more about canis\n",
    "\n",
    "## 09:38 Linna Sun\n",
    "how do you graph the world map over time\n",
    "\n",
    "## 09:42 Ashen Parikh\n",
    "have you found any causes for why the decision time was different in two countries\n",
    "\n",
    "## 09:46 Matthew Muia\n",
    "what is the bootstrapping test?\n",
    "\n",
    "## 09:50 Antonella Gonzalez\n",
    "what are you trying to find about this group of species\n",
    "\n",
    "## 09:54 Yee Chau\n",
    "what comparison could you make by comparing the data from the pre era and post era data for extinction\n",
    "\n",
    "## 09:58 Kristen Lee\n",
    "how did you graph the world map over time\n",
    "\n",
    "## 10:02 Madison Downing\n",
    "what are you trying to find for the relationship between mammals and birds\n",
    "\n",
    "## 10:06 Youstina Salama\n",
    "what have you found from the graphs you made\n",
    "\n",
    "## 10:10 Jeremy Wadowski\n",
    "why most people were under metabolic rate\n",
    "\n",
    "## 10:14 Mehdi Nojoumi\n",
    "is there any relations between the occurrence of disease for different orders of birds\n",
    "\n",
    "## 10:18 Junghoon Kim\n",
    "what did you infer from your graph with the error bars\n",
    "\n",
    "## 10:22 Dustin Wong\n",
    "what do you think you can do to find why you have many species for a short time period \n",
    "\n",
    "## 10:26 Hyein Kil\n",
    "what other sets of data can you find to find which species emerged first"
   ]
  },
  {
   "cell_type": "code",
   "execution_count": null,
   "metadata": {
    "collapsed": true
   },
   "outputs": [],
   "source": []
  }
 ],
 "metadata": {
  "anaconda-cloud": {},
  "kernelspec": {
   "display_name": "Python [conda root]",
   "language": "python",
   "name": "conda-root-py"
  },
  "language_info": {
   "codemirror_mode": {
    "name": "ipython",
    "version": 3
   },
   "file_extension": ".py",
   "mimetype": "text/x-python",
   "name": "python",
   "nbconvert_exporter": "python",
   "pygments_lexer": "ipython3",
   "version": "3.5.2"
  }
 },
 "nbformat": 4,
 "nbformat_minor": 2
}
