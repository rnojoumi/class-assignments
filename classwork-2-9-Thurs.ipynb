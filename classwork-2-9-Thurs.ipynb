{
 "cells": [
  {
   "cell_type": "code",
   "execution_count": 1,
   "metadata": {
    "collapsed": false
   },
   "outputs": [
    {
     "name": "stdout",
     "output_type": "stream",
     "text": [
      "Homo is an ape\n",
      "Pan is an ape\n",
      "Gorilla is an ape\n"
     ]
    }
   ],
   "source": [
    "apes = [\"Homo\",\"Pan\",\"Gorilla\"]\n",
    "for name in apes:\n",
    "    print (name, \"is an ape\")\n",
    "    "
   ]
  },
  {
   "cell_type": "markdown",
   "metadata": {},
   "source": [
    "#class challenge\n",
    "#used wget http://www.nature.com/nature/journal/vaop/ncurrent/source_data/nature21074-fl.csv in terminal to download the data\n",
    "#used these two commands to find the number of families:\n",
    ">cat nature21074-f1.csv | tr \"\\r\" \"\\n\" > formattednature.csv\n",
    "\n",
    ">tail -n+3 formattednature.csv| cut -d \",\" -f 3| sort| uniq| wc -l\n",
    "answer> 195\n",
    "\n",
    "#to find the families with the highest number of species used:\n",
    ">tail -n+3 formattednature.csv| cut -d \",\" -f 3| sort | uniq -c|sort -n\n",
    "answer> 102 (species) in Trochilidae family \n",
    "\n",
    "\n",
    "#to find how many families that have one species represented:\n",
    ">tail -n+3 formattednature.csv| cut -d \",\" -f 3| sort | uniq -c|sort -n | grep \"1\" -wn | wc -l\n",
    "asnwer> 61\n"
   ]
  },
  {
   "cell_type": "code",
   "execution_count": null,
   "metadata": {
    "collapsed": true
   },
   "outputs": [],
   "source": []
  }
 ],
 "metadata": {
  "anaconda-cloud": {},
  "kernelspec": {
   "display_name": "Python [default]",
   "language": "python",
   "name": "python3"
  },
  "language_info": {
   "codemirror_mode": {
    "name": "ipython",
    "version": 3
   },
   "file_extension": ".py",
   "mimetype": "text/x-python",
   "name": "python",
   "nbconvert_exporter": "python",
   "pygments_lexer": "ipython3",
   "version": "3.5.2"
  }
 },
 "nbformat": 4,
 "nbformat_minor": 2
}
