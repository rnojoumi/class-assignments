{
 "cells": [
  {
   "cell_type": "markdown",
   "metadata": {},
   "source": [
    "used wget http://ctfs.si.edu/webatlas/datasets/cocoli/cocoli.zip to download the file and\n",
    "unzip cocoli.zip to unzip the files\n",
    "\n",
    "in cocoli_files.doc there is a description of all the files\n",
    "\n",
    "in cocoli.txt there is a data set for each tree with its diameter, x-y coordinates and.... \n",
    "\n",
    "in mult1.txt and mult2.txt and mult3.txt has id of each tree with its diameter measurements\n",
    "\n",
    "\n",
    "in cocolilisp.txt there is species code,with its genus species and family name\n"
   ]
  },
  {
   "cell_type": "markdown",
   "metadata": {},
   "source": [
    "each row in cocoli.txt represents each tree and different measurements for it such as species code and x,y,dbh1...\n",
    "\n",
    "each row in cocolisp.txt represents the species code with its genus species and family name"
   ]
  },
  {
   "cell_type": "markdown",
   "metadata": {},
   "source": [
    "mult 2 refers to the diameter of all the stems during the second measurement \n",
    "dbh2 refers to the diameter of individuals 11(mm) during the second measurement, can use grep cocolisip.txt to find species and genus and family of individuals, grep CAL2CA cocolisp.txt \n",
    "output: CAL2CA\tCalycophyllum\tcandidissimum\tRubiaceae\n"
   ]
  },
  {
   "cell_type": "markdown",
   "metadata": {},
   "source": [
    "the individual 000001 grew, becasue d measurement increased \n",
    "-1 for indivdual 29 means its dead\n"
   ]
  },
  {
   "cell_type": "markdown",
   "metadata": {},
   "source": [
    "the can compare the rate of growth and shrink and if there is a pattern to that, \n",
    "\n",
    "and which specific species have the highest or lowest rate of growth or shrink and \n",
    "\n",
    "also if there is any relation between the rate of growth and shrink and their x-y coordinate.(for different species and also for a specific specie)"
   ]
  },
  {
   "cell_type": "markdown",
   "metadata": {},
   "source": [
    "to find most species rich genus we use: ***sed 's/\\s/,/g' cocolisp.txt |cut -d \",\" -f 2 | uniq -c|sort -n***\n",
    "output: 7 Piper\n",
    "\n",
    "How many genera have just one species represented in this\n",
    "community, we use ***sed 's/\\s/,/g' cocolisp.txt |cut -d \",\" -f 2 | sort | uniq -c|sort -n|grep -w \"1\"| wc -l***\n",
    "99\n",
    "\n"
   ]
  },
  {
   "cell_type": "markdown",
   "metadata": {},
   "source": [
    "Guided exploration of the data\n",
    "\n",
    "open the cocoli.txt\n",
    "\n",
    ".split cocoli.txt to separate into columns\n",
    "\n",
    "take column 4 and 6\n",
    "\n",
    "RGR= column 6 - column 4 / column4= list[5]-list[3]/list[3]\n",
    "\n",
    "make dictionary with list[0]= RGR\n",
    "\n"
   ]
  },
  {
   "cell_type": "code",
   "execution_count": null,
   "metadata": {
    "collapsed": true
   },
   "outputs": [],
   "source": []
  }
 ],
 "metadata": {
  "anaconda-cloud": {},
  "kernelspec": {
   "display_name": "Python [default]",
   "language": "python",
   "name": "python3"
  },
  "language_info": {
   "codemirror_mode": {
    "name": "ipython",
    "version": 3
   },
   "file_extension": ".py",
   "mimetype": "text/x-python",
   "name": "python",
   "nbconvert_exporter": "python",
   "pygments_lexer": "ipython3",
   "version": "3.5.2"
  }
 },
 "nbformat": 4,
 "nbformat_minor": 2
}
